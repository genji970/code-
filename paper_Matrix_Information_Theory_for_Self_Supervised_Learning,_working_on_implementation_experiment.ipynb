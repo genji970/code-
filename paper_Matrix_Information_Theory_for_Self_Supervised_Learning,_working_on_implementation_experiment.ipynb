{
  "nbformat": 4,
  "nbformat_minor": 0,
  "metadata": {
    "colab": {
      "provenance": [],
      "machine_shape": "hm",
      "gpuType": "L4"
    },
    "kernelspec": {
      "name": "python3",
      "display_name": "Python 3"
    },
    "language_info": {
      "name": "python"
    },
    "accelerator": "GPU"
  },
  "cells": [
    {
      "cell_type": "code",
      "execution_count": 1,
      "metadata": {
        "id": "iOgjTCWXGLJ9"
      },
      "outputs": [],
      "source": [
        "import torch\n",
        "import torch.nn as nn\n",
        "import torch.nn.functional as F\n",
        "from torch.autograd import Variable\n",
        "import os\n",
        "import numpy as np\n",
        "import random\n",
        "import time\n",
        "import sys\n",
        "import matplotlib.pyplot as plt\n",
        "\n",
        "from PIL import Image\n",
        "from torchvision import datasets , transforms\n",
        "from torch.utils.data import DataLoader\n",
        "from torch.optim.lr_scheduler import CosineAnnealingLR"
      ]
    },
    {
      "cell_type": "markdown",
      "source": [
        "Random seed 고정"
      ],
      "metadata": {
        "id": "Hr5ok5ufKBZy"
      }
    },
    {
      "cell_type": "code",
      "source": [
        "seed = 40\n",
        "deterministic = True\n",
        "\n",
        "random.seed(seed)\n",
        "np.random.seed(seed)\n",
        "torch.manual_seed(seed)\n",
        "torch.cuda.manual_seed_all(seed)\n",
        "if deterministic:\n",
        "  torch.backends.cudnn.deterministic = True\n",
        "  torch.backends.cudnn.benchmark = False"
      ],
      "metadata": {
        "id": "R-P77gDLKC9M"
      },
      "execution_count": 2,
      "outputs": []
    },
    {
      "cell_type": "code",
      "source": [
        "device = torch.device(\"cuda\" if torch.cuda.is_available() else \"cpu\")"
      ],
      "metadata": {
        "id": "GA0LH43PkOqY"
      },
      "execution_count": 3,
      "outputs": []
    },
    {
      "cell_type": "markdown",
      "source": [
        "google drive mount"
      ],
      "metadata": {
        "id": "jdl6znvKLr39"
      }
    },
    {
      "cell_type": "code",
      "source": [
        "from google.colab import drive\n",
        "drive.mount('/content/drive')"
      ],
      "metadata": {
        "colab": {
          "base_uri": "https://localhost:8080/"
        },
        "id": "Vu1rGNVILtgn",
        "outputId": "3cdd2896-5aa9-443b-fd78-11cfc38aef7c"
      },
      "execution_count": 4,
      "outputs": [
        {
          "output_type": "stream",
          "name": "stdout",
          "text": [
            "Mounted at /content/drive\n"
          ]
        }
      ]
    },
    {
      "cell_type": "markdown",
      "source": [
        "데이터셋 가져오기"
      ],
      "metadata": {
        "id": "2Gm-3DM_KXwv"
      }
    },
    {
      "cell_type": "code",
      "source": [
        "# 데이터를 저장할 폴더 생성\n",
        "data_root = '/content/drive/MyDrive/imagesnet_data'\n",
        "os.makedirs(data_root, exist_ok=True)"
      ],
      "metadata": {
        "id": "xItefymHO_XS"
      },
      "execution_count": 5,
      "outputs": []
    },
    {
      "cell_type": "code",
      "source": [
        "# 4. uploader.py 실행\n",
        "!python /content/drive/MyDrive/ImageNet-Datasets-Downloader-master/downloader.py \\\n",
        "    -data_root /content/drive/MyDrive/imagesnet_data \\\n",
        "    -number_of_classes 20 \\\n",
        "    -images_per_class 20"
      ],
      "metadata": {
        "collapsed": true,
        "id": "4Lm8Jx9uKXJf"
      },
      "execution_count": null,
      "outputs": []
    },
    {
      "cell_type": "markdown",
      "source": [
        "손상된 이미지 자동 삭제"
      ],
      "metadata": {
        "id": "CU6M8qVF2jhH"
      }
    },
    {
      "cell_type": "code",
      "source": [
        "# 데이터셋 경로 설정\n",
        "root_dir = \"/content/drive/MyDrive/imagesnet_data/imagenet_images\"\n",
        "\n",
        "# 손상된 이미지 탐색 및 삭제\n",
        "for subdir, _, files in os.walk(root_dir):\n",
        "    for file in files:\n",
        "        file_path = os.path.join(subdir, file)\n",
        "        try:\n",
        "            # 이미지를 열어보기 (손상된 경우 예외 발생)\n",
        "            with Image.open(file_path) as img:\n",
        "                img.verify()  # 이미지가 유효한지 검증\n",
        "        except (IOError, OSError, Image.DecompressionBombError) as e:\n",
        "            # 손상된 이미지 발견 시 삭제\n",
        "            print(f\"Deleting corrupted image: {file_path}, Error: {e}\")\n",
        "            os.remove(file_path)"
      ],
      "metadata": {
        "colab": {
          "base_uri": "https://localhost:8080/",
          "height": 332
        },
        "id": "mi_abyLK2jmY",
        "outputId": "2c5c95ed-20a9-49ff-b023-9cf7288b9e3e"
      },
      "execution_count": 171,
      "outputs": [
        {
          "output_type": "error",
          "ename": "KeyboardInterrupt",
          "evalue": "",
          "traceback": [
            "\u001b[0;31m---------------------------------------------------------------------------\u001b[0m",
            "\u001b[0;31mKeyboardInterrupt\u001b[0m                         Traceback (most recent call last)",
            "\u001b[0;32m<ipython-input-171-d39c1cf581fe>\u001b[0m in \u001b[0;36m<cell line: 5>\u001b[0;34m()\u001b[0m\n\u001b[1;32m      8\u001b[0m         \u001b[0;32mtry\u001b[0m\u001b[0;34m:\u001b[0m\u001b[0;34m\u001b[0m\u001b[0;34m\u001b[0m\u001b[0m\n\u001b[1;32m      9\u001b[0m             \u001b[0;31m# 이미지를 열어보기 (손상된 경우 예외 발생)\u001b[0m\u001b[0;34m\u001b[0m\u001b[0;34m\u001b[0m\u001b[0m\n\u001b[0;32m---> 10\u001b[0;31m             \u001b[0;32mwith\u001b[0m \u001b[0mImage\u001b[0m\u001b[0;34m.\u001b[0m\u001b[0mopen\u001b[0m\u001b[0;34m(\u001b[0m\u001b[0mfile_path\u001b[0m\u001b[0;34m)\u001b[0m \u001b[0;32mas\u001b[0m \u001b[0mimg\u001b[0m\u001b[0;34m:\u001b[0m\u001b[0;34m\u001b[0m\u001b[0;34m\u001b[0m\u001b[0m\n\u001b[0m\u001b[1;32m     11\u001b[0m                 \u001b[0mimg\u001b[0m\u001b[0;34m.\u001b[0m\u001b[0mverify\u001b[0m\u001b[0;34m(\u001b[0m\u001b[0;34m)\u001b[0m  \u001b[0;31m# 이미지가 유효한지 검증\u001b[0m\u001b[0;34m\u001b[0m\u001b[0;34m\u001b[0m\u001b[0m\n\u001b[1;32m     12\u001b[0m         \u001b[0;32mexcept\u001b[0m \u001b[0;34m(\u001b[0m\u001b[0mIOError\u001b[0m\u001b[0;34m,\u001b[0m \u001b[0mOSError\u001b[0m\u001b[0;34m,\u001b[0m \u001b[0mImage\u001b[0m\u001b[0;34m.\u001b[0m\u001b[0mDecompressionBombError\u001b[0m\u001b[0;34m)\u001b[0m \u001b[0;32mas\u001b[0m \u001b[0me\u001b[0m\u001b[0;34m:\u001b[0m\u001b[0;34m\u001b[0m\u001b[0;34m\u001b[0m\u001b[0m\n",
            "\u001b[0;32m/usr/local/lib/python3.10/dist-packages/PIL/Image.py\u001b[0m in \u001b[0;36mopen\u001b[0;34m(fp, mode, formats)\u001b[0m\n\u001b[1;32m   3440\u001b[0m         \u001b[0mexclusive_fp\u001b[0m \u001b[0;34m=\u001b[0m \u001b[0;32mTrue\u001b[0m\u001b[0;34m\u001b[0m\u001b[0;34m\u001b[0m\u001b[0m\n\u001b[1;32m   3441\u001b[0m \u001b[0;34m\u001b[0m\u001b[0m\n\u001b[0;32m-> 3442\u001b[0;31m     \u001b[0mprefix\u001b[0m \u001b[0;34m=\u001b[0m \u001b[0mfp\u001b[0m\u001b[0;34m.\u001b[0m\u001b[0mread\u001b[0m\u001b[0;34m(\u001b[0m\u001b[0;36m16\u001b[0m\u001b[0;34m)\u001b[0m\u001b[0;34m\u001b[0m\u001b[0;34m\u001b[0m\u001b[0m\n\u001b[0m\u001b[1;32m   3443\u001b[0m \u001b[0;34m\u001b[0m\u001b[0m\n\u001b[1;32m   3444\u001b[0m     \u001b[0mpreinit\u001b[0m\u001b[0;34m(\u001b[0m\u001b[0;34m)\u001b[0m\u001b[0;34m\u001b[0m\u001b[0;34m\u001b[0m\u001b[0m\n",
            "\u001b[0;31mKeyboardInterrupt\u001b[0m: "
          ]
        }
      ]
    },
    {
      "cell_type": "markdown",
      "source": [
        "두개의 관점(논문에 나온 이미지처럼)을 얻을 것이므로 단일 이미지에 대해 augmentation을 두번씩 진행한다"
      ],
      "metadata": {
        "id": "L_Ufq16zSW14"
      }
    },
    {
      "cell_type": "markdown",
      "source": [
        "ResNet50이 backbone으로 사용"
      ],
      "metadata": {
        "id": "OxU0ZXryUFNS"
      }
    },
    {
      "cell_type": "code",
      "source": [
        "!pip install timm\n",
        "import timm"
      ],
      "metadata": {
        "id": "xjU0DoyBSVQh",
        "colab": {
          "base_uri": "https://localhost:8080/"
        },
        "outputId": "4ed042be-3c17-47d6-c879-727a8cae9b0c"
      },
      "execution_count": 7,
      "outputs": [
        {
          "output_type": "stream",
          "name": "stdout",
          "text": [
            "Requirement already satisfied: timm in /usr/local/lib/python3.10/dist-packages (1.0.10)\n",
            "Requirement already satisfied: torch in /usr/local/lib/python3.10/dist-packages (from timm) (2.4.1+cu121)\n",
            "Requirement already satisfied: torchvision in /usr/local/lib/python3.10/dist-packages (from timm) (0.19.1+cu121)\n",
            "Requirement already satisfied: pyyaml in /usr/local/lib/python3.10/dist-packages (from timm) (6.0.2)\n",
            "Requirement already satisfied: huggingface_hub in /usr/local/lib/python3.10/dist-packages (from timm) (0.24.7)\n",
            "Requirement already satisfied: safetensors in /usr/local/lib/python3.10/dist-packages (from timm) (0.4.5)\n",
            "Requirement already satisfied: filelock in /usr/local/lib/python3.10/dist-packages (from huggingface_hub->timm) (3.16.1)\n",
            "Requirement already satisfied: fsspec>=2023.5.0 in /usr/local/lib/python3.10/dist-packages (from huggingface_hub->timm) (2024.6.1)\n",
            "Requirement already satisfied: packaging>=20.9 in /usr/local/lib/python3.10/dist-packages (from huggingface_hub->timm) (24.1)\n",
            "Requirement already satisfied: requests in /usr/local/lib/python3.10/dist-packages (from huggingface_hub->timm) (2.32.3)\n",
            "Requirement already satisfied: tqdm>=4.42.1 in /usr/local/lib/python3.10/dist-packages (from huggingface_hub->timm) (4.66.5)\n",
            "Requirement already satisfied: typing-extensions>=3.7.4.3 in /usr/local/lib/python3.10/dist-packages (from huggingface_hub->timm) (4.12.2)\n",
            "Requirement already satisfied: sympy in /usr/local/lib/python3.10/dist-packages (from torch->timm) (1.13.3)\n",
            "Requirement already satisfied: networkx in /usr/local/lib/python3.10/dist-packages (from torch->timm) (3.4.1)\n",
            "Requirement already satisfied: jinja2 in /usr/local/lib/python3.10/dist-packages (from torch->timm) (3.1.4)\n",
            "Requirement already satisfied: numpy in /usr/local/lib/python3.10/dist-packages (from torchvision->timm) (1.26.4)\n",
            "Requirement already satisfied: pillow!=8.3.*,>=5.3.0 in /usr/local/lib/python3.10/dist-packages (from torchvision->timm) (10.4.0)\n",
            "Requirement already satisfied: MarkupSafe>=2.0 in /usr/local/lib/python3.10/dist-packages (from jinja2->torch->timm) (3.0.1)\n",
            "Requirement already satisfied: charset-normalizer<4,>=2 in /usr/local/lib/python3.10/dist-packages (from requests->huggingface_hub->timm) (3.4.0)\n",
            "Requirement already satisfied: idna<4,>=2.5 in /usr/local/lib/python3.10/dist-packages (from requests->huggingface_hub->timm) (3.10)\n",
            "Requirement already satisfied: urllib3<3,>=1.21.1 in /usr/local/lib/python3.10/dist-packages (from requests->huggingface_hub->timm) (2.2.3)\n",
            "Requirement already satisfied: certifi>=2017.4.17 in /usr/local/lib/python3.10/dist-packages (from requests->huggingface_hub->timm) (2024.8.30)\n",
            "Requirement already satisfied: mpmath<1.4,>=1.1.0 in /usr/local/lib/python3.10/dist-packages (from sympy->torch->timm) (1.3.0)\n"
          ]
        }
      ]
    },
    {
      "cell_type": "code",
      "source": [
        "resnet_1 = timm.create_model('resnet50', pretrained=True)\n",
        "resnet_2 = timm.create_model('resnet50', pretrained=True)"
      ],
      "metadata": {
        "id": "fTXMp9GlUQoU"
      },
      "execution_count": 160,
      "outputs": []
    },
    {
      "cell_type": "markdown",
      "source": [
        "최종 레이어(backbone(=resnet50)의 encoder로 사용된다) 제거"
      ],
      "metadata": {
        "id": "lYwiU6eZUfy5"
      }
    },
    {
      "cell_type": "code",
      "source": [
        "del resnet_1.fc\n",
        "del resnet_2.fc"
      ],
      "metadata": {
        "id": "GNb8Qr9DU5C0"
      },
      "execution_count": 161,
      "outputs": []
    },
    {
      "cell_type": "markdown",
      "source": [
        "BN이 포함된 three layer MLP를 사용한다"
      ],
      "metadata": {
        "id": "RmdL6Yu-VdjA"
      }
    },
    {
      "cell_type": "code",
      "source": [
        "resnet_1.fc = nn.Sequential(\n",
        "    nn.Linear(2048, 2048),\n",
        "    nn.BatchNorm1d(2048),\n",
        "    nn.ReLU(),\n",
        "    nn.Linear(2048,2048),\n",
        "    nn.BatchNorm1d(2048),\n",
        "    nn.ReLU(),\n",
        "    nn.Linear(2048,2048),\n",
        "    nn.BatchNorm1d(2048),\n",
        "    nn.ReLU()\n",
        ")\n",
        "\n",
        "resnet_2.fc = nn.Sequential(\n",
        "    nn.Linear(2048, 2048),\n",
        "    nn.BatchNorm1d(2048),\n",
        "    nn.ReLU(),\n",
        "    nn.Linear(2048,2048),\n",
        "    nn.BatchNorm1d(2048),\n",
        "    nn.ReLU(),\n",
        "    nn.Linear(2048,2048),\n",
        "    nn.BatchNorm1d(2048),\n",
        "    nn.ReLU()\n",
        ")"
      ],
      "metadata": {
        "id": "tpSNG-EkVTFG"
      },
      "execution_count": 162,
      "outputs": []
    },
    {
      "cell_type": "markdown",
      "source": [
        "model parameter freeze , final block non freeze"
      ],
      "metadata": {
        "id": "wURxPCK1p0ha"
      }
    },
    {
      "cell_type": "code",
      "source": [
        "for param in resnet_1.parameters():\n",
        "  param.requires_grad = False\n",
        "for param in resnet_1.fc.parameters():\n",
        "  param.requires_grad = True\n",
        "\n",
        "for param in resnet_2.parameters():\n",
        "  param.requires_grad = False\n",
        "for param in resnet_2.fc.parameters():\n",
        "  param.requires_grad = True"
      ],
      "metadata": {
        "id": "P6q2aMvap0lw"
      },
      "execution_count": 163,
      "outputs": []
    },
    {
      "cell_type": "markdown",
      "source": [
        "resnet50 데이터 정규화 리스트\n"
      ],
      "metadata": {
        "id": "IIQo5WkfdKFL"
      }
    },
    {
      "cell_type": "code",
      "source": [
        "mean = [0.485,0.456,0.406]\n",
        "std = [0.229,0.224,0.225]"
      ],
      "metadata": {
        "id": "K4iZgA80dHZL"
      },
      "execution_count": 164,
      "outputs": []
    },
    {
      "cell_type": "markdown",
      "source": [
        "이미지 전처리"
      ],
      "metadata": {
        "id": "3IJsv-ZrWsAr"
      }
    },
    {
      "cell_type": "code",
      "source": [
        "# 이미지 변환 파이프라인 정의\n",
        "transform = transforms.Compose([\n",
        "    transforms.Resize((256, 256)),  # 먼저 크기 조정\n",
        "    transforms.RandomResizedCrop(224),  # 그 후 임의의 크기로 자르기\n",
        "    transforms.ColorJitter(brightness=0.4, contrast=0.4, saturation=0.4, hue=0.1),  # 색상 변화\n",
        "    transforms.RandomGrayscale(p=0.2),  # 20% 확률로 흑백 변환\n",
        "    transforms.GaussianBlur(kernel_size=(5, 5), sigma=(0.1, 2.0)),  # 가우시안 블러\n",
        "    transforms.RandomHorizontalFlip(p=0.5),  # 50% 확률로 좌우 뒤집기\n",
        "    transforms.ToTensor(),  # 마지막에 텐서 변환\n",
        "    transforms.Normalize(mean=[0.485, 0.456, 0.406], std=[0.229, 0.224, 0.225])  # 정규화\n",
        "])"
      ],
      "metadata": {
        "id": "oyXyGp2hWvn1"
      },
      "execution_count": 165,
      "outputs": []
    },
    {
      "cell_type": "code",
      "source": [
        "aug1 = transforms.Compose([\n",
        "    transforms.Resize((672, 224)),  # 크기 조정\n",
        "    transforms.ColorJitter(brightness=0.4, contrast=0.4, saturation=0.4, hue=0.1),  # 색상 변화\n",
        "    transforms.RandomGrayscale(p=0.2),  # 20% 확률로 흑백 변환\n",
        "    transforms.RandomResizedCrop(224),  # 임의 크기로 자르기\n",
        "    transforms.RandomHorizontalFlip(p=0.5),  # 좌우 뒤집기\n",
        "    transforms.ToTensor(),  # 마지막에 텐서로 변환\n",
        "    transforms.Normalize(mean=mean, std=std)  # 정규화\n",
        "])"
      ],
      "metadata": {
        "id": "tEarAQOIl_Du"
      },
      "execution_count": 166,
      "outputs": []
    },
    {
      "cell_type": "code",
      "source": [
        "aug2 = transforms.Compose([\n",
        "    transforms.Resize((672, 224)),  # 크기 조정\n",
        "    transforms.GaussianBlur(kernel_size=(5, 5), sigma=(0.1, 5)),  # 가우시안 블러\n",
        "    transforms.RandomResizedCrop(224),  # 임의 크기 자르기\n",
        "    transforms.ToTensor(),  # 마지막에 텐서로 변환\n",
        "    transforms.Normalize(mean=mean, std=std)  # 정규화\n",
        "])"
      ],
      "metadata": {
        "id": "Wxrb_gOhmnCS"
      },
      "execution_count": 167,
      "outputs": []
    },
    {
      "cell_type": "markdown",
      "source": [
        "훈련 loop"
      ],
      "metadata": {
        "id": "4-QVWA-RYTPV"
      }
    },
    {
      "cell_type": "markdown",
      "source": [
        "optimizer : LARS\n",
        "\n",
        "---\n",
        "\n",
        "\n",
        "batch size : 4096\n",
        "\n",
        "---\n",
        "\n",
        "\n",
        "momentum : 0.9\n",
        "\n",
        "---\n",
        "\n",
        "\n",
        "weight_decay : None\n",
        "\n",
        "---\n",
        "\n",
        "\n",
        "learning rate : base 0.03 , cosine decay learning rate scheduler\n",
        "\n",
        "---\n",
        "\n",
        "\n",
        "epoch : 100"
      ],
      "metadata": {
        "id": "F1nGD1vNdzUU"
      }
    },
    {
      "cell_type": "markdown",
      "source": [
        "optimizer 설치"
      ],
      "metadata": {
        "id": "i_H7QMIQjR6o"
      }
    },
    {
      "cell_type": "code",
      "source": [
        "!pip install torchlars\n",
        "from torchlars import LARS"
      ],
      "metadata": {
        "colab": {
          "base_uri": "https://localhost:8080/"
        },
        "id": "aQ-xfKN_jTr7",
        "outputId": "50177ce7-8b6b-4cdc-d904-5014dbbf22d6"
      },
      "execution_count": 116,
      "outputs": [
        {
          "output_type": "stream",
          "name": "stdout",
          "text": [
            "Requirement already satisfied: torchlars in /usr/local/lib/python3.10/dist-packages (0.1.2)\n",
            "Requirement already satisfied: torch in /usr/local/lib/python3.10/dist-packages (from torchlars) (2.4.1+cu121)\n",
            "Requirement already satisfied: filelock in /usr/local/lib/python3.10/dist-packages (from torch->torchlars) (3.16.1)\n",
            "Requirement already satisfied: typing-extensions>=4.8.0 in /usr/local/lib/python3.10/dist-packages (from torch->torchlars) (4.12.2)\n",
            "Requirement already satisfied: sympy in /usr/local/lib/python3.10/dist-packages (from torch->torchlars) (1.13.3)\n",
            "Requirement already satisfied: networkx in /usr/local/lib/python3.10/dist-packages (from torch->torchlars) (3.4.1)\n",
            "Requirement already satisfied: jinja2 in /usr/local/lib/python3.10/dist-packages (from torch->torchlars) (3.1.4)\n",
            "Requirement already satisfied: fsspec in /usr/local/lib/python3.10/dist-packages (from torch->torchlars) (2024.6.1)\n",
            "Requirement already satisfied: MarkupSafe>=2.0 in /usr/local/lib/python3.10/dist-packages (from jinja2->torch->torchlars) (3.0.1)\n",
            "Requirement already satisfied: mpmath<1.4,>=1.1.0 in /usr/local/lib/python3.10/dist-packages (from sympy->torch->torchlars) (1.3.0)\n"
          ]
        }
      ]
    },
    {
      "cell_type": "markdown",
      "source": [
        "data_loading"
      ],
      "metadata": {
        "id": "pRlimSxJg2iD"
      }
    },
    {
      "cell_type": "code",
      "source": [
        "dataset = datasets.ImageFolder(root=data_root, transform=transform)\n",
        "dataloader = DataLoader(dataset, batch_size=1024, shuffle=True)\n",
        "\n",
        "proposed_dataset = datasets.ImageFolder(root=data_root, transform=False)\n",
        "proposed_dataloader = DataLoader(proposed_dataset, batch_size=1024, shuffle=True)"
      ],
      "metadata": {
        "id": "VJ4oJkK1iQYx"
      },
      "execution_count": 168,
      "outputs": []
    },
    {
      "cell_type": "markdown",
      "source": [
        "Linear evaluation"
      ],
      "metadata": {
        "id": "tamTWQ51716V"
      }
    },
    {
      "cell_type": "code",
      "source": [
        "base_optimizer_linear = torch.optim.Adam(resnet_1.fc.parameters(), lr=0.03)\n",
        "optimizer_linear = LARS(optimizer=base_optimizer_linear, trust_coef=0.001)\n",
        "scheduler_linear = CosineAnnealingLR(optimizer_linear, T_max=100, eta_min=0.0003)"
      ],
      "metadata": {
        "id": "x0dk7TzHi37c"
      },
      "execution_count": 169,
      "outputs": []
    },
    {
      "cell_type": "code",
      "source": [
        "cnt = 0\n",
        "loss_history = []\n",
        "test_loss_history = []\n",
        "ce_loss = nn.CrossEntropyLoss()\n",
        "resnet_1 = resnet_1.to(device)\n",
        "\n",
        "resnet_1.train()\n",
        "for epoch in range(100):\n",
        "  for images, labels in dataloader:\n",
        "\n",
        "    images = images.to(device)\n",
        "    labels = labels.to(device)\n",
        "\n",
        "    images = images.reshape(-1,3,224,224)\n",
        "    labels = labels.long()\n",
        "\n",
        "    output = resnet_1(images)\n",
        "    loss = ce_loss(output, labels)\n",
        "\n",
        "    # Backward and optimize\n",
        "    optimizer_linear.zero_grad()\n",
        "    loss.backward()\n",
        "    optimizer_linear.step()\n",
        "\n",
        "    # loss history append\n",
        "    loss_history.append(loss.item())\n",
        "\n",
        "  scheduler_linear.step()\n",
        "  print(\"epoch : {} , loss : {}\".format(epoch, loss))"
      ],
      "metadata": {
        "id": "kCCB2t_1j_wc"
      },
      "execution_count": null,
      "outputs": []
    },
    {
      "cell_type": "markdown",
      "source": [
        "Matrix-SSL"
      ],
      "metadata": {
        "id": "XKMbqFsWkuNx"
      }
    },
    {
      "cell_type": "code",
      "source": [
        "base_optimizer_propose = torch.optim.Adam(resnet_2.fc.parameters(), lr=0.03)\n",
        "optimizer_propose = LARS(optimizer=base_optimizer_propose, trust_coef=0.001)\n",
        "scheduler_propose = CosineAnnealingLR(optimizer_propose, T_max=100, eta_min=0.0003)"
      ],
      "metadata": {
        "id": "MN_mBHQ29LIJ"
      },
      "execution_count": null,
      "outputs": []
    },
    {
      "cell_type": "markdown",
      "source": [
        "align_loss = -tr(c(z_1,z_2)) + gamma*MCE(c(z_1,z_1),c(z_2,z_2))\n",
        "\n",
        "---\n",
        "\n",
        "\n",
        "uniform_loss = MCE((1/d)*identity_d , c(z_1,z_2))"
      ],
      "metadata": {
        "id": "VzmVZ38j3xlg"
      }
    },
    {
      "cell_type": "code",
      "source": [
        "cnt = 0\n",
        "loss_history = []\n",
        "test_loss_history = []\n",
        "ce_loss = nn.CrossEntropyLoss()\n",
        "resnet_2 = resnet_2.to(device)\n",
        "\n",
        "resnet_2.train()\n",
        "for epoch in range(100):\n",
        "  for images, labels in proposed_dataloader:\n",
        "\n",
        "    images = images.to(device)\n",
        "    labels = labels.to(device)\n",
        "    labels = labels.long()\n",
        "\n",
        "    z_1 = aug1(images).reshape(-1,3,224,224)\n",
        "    z_2 = aug2(images).reshape(-1,3,224,224)\n",
        "\n",
        "    output_1 = resnet_2(z_1)\n",
        "    output_2 = resnet_2(z_2)\n",
        "\n",
        "    # Matrix의 대각합\n",
        "    # MCE(p,q) = tr(-plog(q) + q)\n",
        "\n",
        "    #loss 함수 정의하기\n",
        "    align_loss = ...\n",
        "    uniform_loss = ...\n",
        "\n",
        "    loss = align_loss + uniform_loss\n",
        "\n",
        "    # Backward and optimize\n",
        "    optimizer_linear.zero_grad()\n",
        "    loss.backward()\n",
        "    optimizer_linear.step()\n",
        "\n",
        "    # loss history append\n",
        "    loss_history.append(loss.item())\n",
        "\n",
        "  scheduler_linear.step()\n",
        "  print(\"epoch : {} , loss : {}\".format(epoch, loss))"
      ],
      "metadata": {
        "id": "h4YqFD2tkuX5"
      },
      "execution_count": null,
      "outputs": []
    }
  ]
}